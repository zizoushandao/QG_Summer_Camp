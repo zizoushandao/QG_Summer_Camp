{
 "cells": [
  {
   "metadata": {
    "ExecuteTime": {
     "end_time": "2024-07-12T00:40:02.619008Z",
     "start_time": "2024-07-12T00:39:46.736723Z"
    }
   },
   "cell_type": "code",
   "source": [
    "import torchvision\n",
    "from torch.utils.tensorboard import SummaryWriter\n",
    "\n",
    "from model import *\n",
    "# 准备数据集\n",
    "from torch import nn\n",
    "from torch.utils.data import DataLoader"
   ],
   "id": "935211ac3e007d24",
   "outputs": [],
   "execution_count": 1
  },
  {
   "metadata": {
    "ExecuteTime": {
     "end_time": "2024-07-12T00:40:52.642879Z",
     "start_time": "2024-07-12T00:40:26.783484Z"
    }
   },
   "cell_type": "code",
   "source": [
    "train_data = torchvision.datasets.CIFAR10(root=\"../data\", train=True, transform=torchvision.transforms.ToTensor(),\n",
    "                                          download=True)\n",
    "test_data = torchvision.datasets.CIFAR10(root=\"../data\", train=False, transform=torchvision.transforms.ToTensor(),\n",
    "                                         download=True)\n"
   ],
   "id": "2e63822ace2310f0",
   "outputs": [
    {
     "name": "stdout",
     "output_type": "stream",
     "text": [
      "Downloading https://www.cs.toronto.edu/~kriz/cifar-10-python.tar.gz to ../data\\cifar-10-python.tar.gz\n"
     ]
    },
    {
     "name": "stderr",
     "output_type": "stream",
     "text": [
      "100.0%\n"
     ]
    },
    {
     "name": "stdout",
     "output_type": "stream",
     "text": [
      "Extracting ../data\\cifar-10-python.tar.gz to ../data\n",
      "Files already downloaded and verified\n"
     ]
    }
   ],
   "execution_count": 2
  },
  {
   "metadata": {
    "ExecuteTime": {
     "end_time": "2024-07-12T00:40:55.123868Z",
     "start_time": "2024-07-12T00:40:55.104871Z"
    }
   },
   "cell_type": "code",
   "source": [
    "# length 长度\n",
    "train_data_size = len(train_data)\n",
    "test_data_size = len(test_data)\n",
    "# 如果train_data_size=10, 训练数据集的长度为：10\n",
    "print(\"训练数据集的长度为：{}\".format(train_data_size))\n",
    "print(\"测试数据集的长度为：{}\".format(test_data_size))"
   ],
   "id": "1c350911e6c950e9",
   "outputs": [
    {
     "name": "stdout",
     "output_type": "stream",
     "text": [
      "训练数据集的长度为：50000\n",
      "测试数据集的长度为：10000\n"
     ]
    }
   ],
   "execution_count": 3
  },
  {
   "metadata": {
    "ExecuteTime": {
     "end_time": "2024-07-12T00:41:06.683661Z",
     "start_time": "2024-07-12T00:41:06.663782Z"
    }
   },
   "cell_type": "code",
   "source": [
    "# 利用 DataLoader 来加载数据集\n",
    "train_dataloader = DataLoader(train_data, batch_size=64)\n",
    "test_dataloader = DataLoader(test_data, batch_size=64)"
   ],
   "id": "77c4dd4e4bd72d08",
   "outputs": [],
   "execution_count": 4
  },
  {
   "metadata": {
    "ExecuteTime": {
     "end_time": "2024-07-12T00:41:24.193295Z",
     "start_time": "2024-07-12T00:41:24.180255Z"
    }
   },
   "cell_type": "code",
   "source": [
    "# 创建网络模型\n",
    "tudui = Tudui()\n",
    "\n",
    "# 损失函数\n",
    "loss_fn = nn.CrossEntropyLoss()\n",
    "\n",
    "# 优化器\n",
    "# learning_rate = 0.01\n",
    "# 1e-2=1 x (10)^(-2) = 1 /100 = 0.01\n",
    "learning_rate = 1e-2\n",
    "optimizer = torch.optim.SGD(tudui.parameters(), lr=learning_rate)"
   ],
   "id": "9fe4923873f4b03d",
   "outputs": [],
   "execution_count": 5
  },
  {
   "metadata": {
    "ExecuteTime": {
     "end_time": "2024-07-12T00:41:44.043698Z",
     "start_time": "2024-07-12T00:41:44.017058Z"
    }
   },
   "cell_type": "code",
   "source": [
    "# 记录训练的次数\n",
    "total_train_step = 0\n",
    "# 记录测试的次数\n",
    "total_test_step = 0\n",
    "# 训练的轮数\n",
    "epoch = 10\n",
    "\n",
    "# 添加tensorboard\n",
    "writer = SummaryWriter(\"../logs_train\")\n"
   ],
   "id": "ec7662d964e8aa1d",
   "outputs": [],
   "execution_count": 6
  },
  {
   "metadata": {
    "ExecuteTime": {
     "end_time": "2024-07-12T00:51:33.690991Z",
     "start_time": "2024-07-12T00:47:50.347784Z"
    }
   },
   "cell_type": "code",
   "source": [
    "for i in range(epoch):\n",
    "    print(\"-------第 {} 轮训练开始-------\".format(i+1))\n",
    "\n",
    "    # 训练步骤开始\n",
    "    tudui.train()\n",
    "    for data in train_dataloader:\n",
    "        imgs, targets = data\n",
    "        outputs = tudui(imgs)\n",
    "        loss = loss_fn(outputs, targets)\n",
    "\n",
    "        # 优化器优化模型\n",
    "        optimizer.zero_grad()\n",
    "        loss.backward()\n",
    "        optimizer.step()\n",
    "\n",
    "        total_train_step = total_train_step + 1\n",
    "        if total_train_step % 100 == 0:\n",
    "            print(\"训练次数：{}, Loss: {}\".format(total_train_step, loss.item()))\n",
    "            writer.add_scalar(\"train_loss\", loss.item(), total_train_step)\n",
    "\n",
    "    # 测试步骤开始\n",
    "    tudui.eval()\n",
    "    total_test_loss = 0\n",
    "    total_accuracy = 0\n",
    "    with torch.no_grad():\n",
    "        for data in test_dataloader:\n",
    "            imgs, targets = data\n",
    "            outputs = tudui(imgs)\n",
    "            loss = loss_fn(outputs, targets)\n",
    "            total_test_loss = total_test_loss + loss.item()\n",
    "            accuracy = (outputs.argmax(1) == targets).sum()\n",
    "            total_accuracy = total_accuracy + accuracy\n",
    "\n",
    "    print(\"整体测试集上的Loss: {}\".format(total_test_loss))\n",
    "    print(\"整体测试集上的正确率: {}\".format(total_accuracy/test_data_size))\n",
    "    writer.add_scalar(\"test_loss\", total_test_loss, total_test_step)\n",
    "    writer.add_scalar(\"test_accuracy\", total_accuracy/test_data_size, total_test_step)\n",
    "    total_test_step = total_test_step + 1\n",
    "\n",
    "    torch.save(tudui, \"tudui_{}.pth\".format(i))\n",
    "    print(\"模型已保存\")\n",
    "\n",
    "writer.close()\n"
   ],
   "id": "d9284816d4abd3ef",
   "outputs": [
    {
     "name": "stdout",
     "output_type": "stream",
     "text": [
      "-------第 1 轮训练开始-------\n",
      "训练次数：7900, Loss: 1.3901692628860474\n",
      "训练次数：8000, Loss: 1.1249207258224487\n",
      "训练次数：8100, Loss: 1.0398794412612915\n",
      "训练次数：8200, Loss: 1.3268537521362305\n",
      "训练次数：8300, Loss: 1.266767978668213\n",
      "训练次数：8400, Loss: 1.118181586265564\n",
      "训练次数：8500, Loss: 1.2216014862060547\n",
      "训练次数：8600, Loss: 0.988271176815033\n",
      "整体测试集上的Loss: 185.71870297193527\n",
      "整体测试集上的正确率: 0.5812000036239624\n",
      "模型已保存\n",
      "-------第 2 轮训练开始-------\n",
      "训练次数：8700, Loss: 1.304955244064331\n",
      "训练次数：8800, Loss: 1.42502760887146\n",
      "训练次数：8900, Loss: 1.0922725200653076\n",
      "训练次数：9000, Loss: 1.1676270961761475\n",
      "训练次数：9100, Loss: 1.096876859664917\n",
      "训练次数：9200, Loss: 1.111709713935852\n",
      "训练次数：9300, Loss: 1.1000206470489502\n",
      "整体测试集上的Loss: 180.49519008398056\n",
      "整体测试集上的正确率: 0.5943999886512756\n",
      "模型已保存\n",
      "-------第 3 轮训练开始-------\n",
      "训练次数：9400, Loss: 0.9282611608505249\n",
      "训练次数：9500, Loss: 1.304259181022644\n",
      "训练次数：9600, Loss: 1.1291203498840332\n",
      "训练次数：9700, Loss: 1.1118332147598267\n",
      "训练次数：9800, Loss: 0.9378360509872437\n",
      "训练次数：9900, Loss: 1.0842856168746948\n",
      "训练次数：10000, Loss: 0.9002047777175903\n",
      "训练次数：10100, Loss: 0.8825982213020325\n",
      "整体测试集上的Loss: 176.99307864904404\n",
      "整体测试集上的正确率: 0.6033999919891357\n",
      "模型已保存\n",
      "-------第 4 轮训练开始-------\n",
      "训练次数：10200, Loss: 0.7867720127105713\n",
      "训练次数：10300, Loss: 0.9570240378379822\n",
      "训练次数：10400, Loss: 1.208406925201416\n",
      "训练次数：10500, Loss: 0.8113319277763367\n",
      "训练次数：10600, Loss: 1.0052305459976196\n",
      "训练次数：10700, Loss: 0.7953848242759705\n",
      "训练次数：10800, Loss: 0.8848637342453003\n",
      "训练次数：10900, Loss: 0.9375884532928467\n",
      "整体测试集上的Loss: 174.86576640605927\n",
      "整体测试集上的正确率: 0.6092000007629395\n",
      "模型已保存\n",
      "-------第 5 轮训练开始-------\n",
      "训练次数：11000, Loss: 1.1494345664978027\n",
      "训练次数：11100, Loss: 0.8679938912391663\n",
      "训练次数：11200, Loss: 1.0056774616241455\n",
      "训练次数：11300, Loss: 1.0665786266326904\n",
      "训练次数：11400, Loss: 0.7971766591072083\n",
      "训练次数：11500, Loss: 1.124580979347229\n",
      "训练次数：11600, Loss: 0.8849753737449646\n",
      "训练次数：11700, Loss: 0.8453360795974731\n",
      "整体测试集上的Loss: 172.49620866775513\n",
      "整体测试集上的正确率: 0.6139000058174133\n",
      "模型已保存\n",
      "-------第 6 轮训练开始-------\n",
      "训练次数：11800, Loss: 0.8848564028739929\n",
      "训练次数：11900, Loss: 0.9831632971763611\n",
      "训练次数：12000, Loss: 0.8277368545532227\n",
      "训练次数：12100, Loss: 0.9562121629714966\n",
      "训练次数：12200, Loss: 0.9867904186248779\n",
      "训练次数：12300, Loss: 0.8889422416687012\n",
      "训练次数：12400, Loss: 0.855183482170105\n",
      "训练次数：12500, Loss: 0.7141764760017395\n",
      "整体测试集上的Loss: 170.7276832461357\n",
      "整体测试集上的正确率: 0.6191999912261963\n",
      "模型已保存\n",
      "-------第 7 轮训练开始-------\n",
      "训练次数：12600, Loss: 0.8456823229789734\n",
      "训练次数：12700, Loss: 0.9467681646347046\n",
      "训练次数：12800, Loss: 0.7750614881515503\n",
      "训练次数：12900, Loss: 1.1530354022979736\n",
      "训练次数：13000, Loss: 1.0281052589416504\n",
      "训练次数：13100, Loss: 0.7460769414901733\n",
      "训练次数：13200, Loss: 0.7735487818717957\n",
      "整体测试集上的Loss: 168.77893501520157\n",
      "整体测试集上的正确率: 0.626800000667572\n",
      "模型已保存\n",
      "-------第 8 轮训练开始-------\n",
      "训练次数：13300, Loss: 0.8781329989433289\n",
      "训练次数：13400, Loss: 0.7346657514572144\n",
      "训练次数：13500, Loss: 0.8525921106338501\n",
      "训练次数：13600, Loss: 1.2446916103363037\n",
      "训练次数：13700, Loss: 0.7614573240280151\n",
      "训练次数：13800, Loss: 0.9222785234451294\n",
      "训练次数：13900, Loss: 0.7641111016273499\n",
      "训练次数：14000, Loss: 0.7445452809333801\n",
      "整体测试集上的Loss: 166.55323976278305\n",
      "整体测试集上的正确率: 0.6351000070571899\n",
      "模型已保存\n",
      "-------第 9 轮训练开始-------\n",
      "训练次数：14100, Loss: 1.0053653717041016\n",
      "训练次数：14200, Loss: 0.7877988219261169\n",
      "训练次数：14300, Loss: 0.8730061054229736\n",
      "训练次数：14400, Loss: 0.9419234991073608\n",
      "训练次数：14500, Loss: 0.9043178558349609\n",
      "训练次数：14600, Loss: 1.0644296407699585\n",
      "训练次数：14700, Loss: 0.6715202927589417\n",
      "训练次数：14800, Loss: 1.1558326482772827\n",
      "整体测试集上的Loss: 165.1715106368065\n",
      "整体测试集上的正确率: 0.6394000053405762\n",
      "模型已保存\n",
      "-------第 10 轮训练开始-------\n",
      "训练次数：14900, Loss: 0.5725024342536926\n",
      "训练次数：15000, Loss: 0.8390476703643799\n",
      "训练次数：15100, Loss: 0.7193533182144165\n",
      "训练次数：15200, Loss: 0.9239858388900757\n",
      "训练次数：15300, Loss: 0.6511895656585693\n",
      "训练次数：15400, Loss: 0.8805724382400513\n",
      "训练次数：15500, Loss: 0.9418184757232666\n",
      "训练次数：15600, Loss: 0.7177369594573975\n",
      "整体测试集上的Loss: 165.0576267838478\n",
      "整体测试集上的正确率: 0.6420000195503235\n",
      "模型已保存\n"
     ]
    }
   ],
   "execution_count": 8
  }
 ],
 "metadata": {
  "kernelspec": {
   "display_name": "Python 3",
   "language": "python",
   "name": "python3"
  },
  "language_info": {
   "codemirror_mode": {
    "name": "ipython",
    "version": 2
   },
   "file_extension": ".py",
   "mimetype": "text/x-python",
   "name": "python",
   "nbconvert_exporter": "python",
   "pygments_lexer": "ipython2",
   "version": "2.7.6"
  }
 },
 "nbformat": 4,
 "nbformat_minor": 5
}
